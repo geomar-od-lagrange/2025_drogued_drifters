{
 "cells": [
  {
   "cell_type": "markdown",
   "id": "95548fb4-7cec-4182-a512-e03783bb0373",
   "metadata": {},
   "source": [
    "# A pendulum in viscous fluid"
   ]
  },
  {
   "cell_type": "code",
   "execution_count": 1,
   "id": "9e802e68-c800-4adb-b89e-b821dd8de77e",
   "metadata": {},
   "outputs": [],
   "source": [
    "import sympy as sp\n",
    "from sympy.physics.mechanics import dynamicsymbols"
   ]
  },
  {
   "cell_type": "code",
   "execution_count": 2,
   "id": "c001426c-b6c6-4636-8331-3425964f13c1",
   "metadata": {},
   "outputs": [],
   "source": [
    "t = dynamicsymbols._t\n",
    "\n",
    "# This would work for now\n",
    "#\n",
    "# theta = sp.Function('theta')(t)\n",
    "# phi = sp.Function('phi')(t)\n",
    "#\n",
    "# but later we want sympy to also understand dotted symbols.\n",
    "# So we go for dynamicsymbols\n",
    "theta, phi = dynamicsymbols('theta phi')\n",
    "\n",
    "m, l, g = sp.symbols('m l g', positive=True)"
   ]
  },
  {
   "cell_type": "code",
   "execution_count": 3,
   "id": "e296a0be-779e-43dd-abb6-b70f2239feb0",
   "metadata": {},
   "outputs": [
    {
     "data": {
      "text/latex": [
       "$\\displaystyle \\left[\\begin{matrix}l \\sin{\\left(\\theta{\\left(t \\right)} \\right)} \\cos{\\left(\\phi{\\left(t \\right)} \\right)}\\\\l \\sin{\\left(\\phi{\\left(t \\right)} \\right)} \\sin{\\left(\\theta{\\left(t \\right)} \\right)}\\\\l \\cos{\\left(\\theta{\\left(t \\right)} \\right)}\\end{matrix}\\right]$"
      ],
      "text/plain": [
       "Matrix([\n",
       "[l*sin(theta(t))*cos(phi(t))],\n",
       "[l*sin(phi(t))*sin(theta(t))],\n",
       "[            l*cos(theta(t))]])"
      ]
     },
     "metadata": {},
     "output_type": "display_data"
    }
   ],
   "source": [
    "r = l * sp.Matrix(\n",
    "    [\n",
    "        sp.sin(theta) * sp.cos(phi),\n",
    "        sp.sin(theta) * sp.sin(phi),\n",
    "        sp.cos(theta),\n",
    "    ]\n",
    ")\n",
    "display(r)"
   ]
  },
  {
   "cell_type": "code",
   "execution_count": 4,
   "id": "f585d3f9-6e2e-4920-af7c-023e183b687e",
   "metadata": {},
   "outputs": [],
   "source": [
    "k = sp.symbols('k', positive=True)\n",
    "\n",
    "def _mag(vec):\n",
    "    return sp.sqrt(vec.dot(vec))\n",
    "\n",
    "F = -k * _mag(r.diff(t)) * r.diff(t)"
   ]
  },
  {
   "cell_type": "code",
   "execution_count": 5,
   "id": "38399824-bedf-48bf-80ba-4beb72b49c13",
   "metadata": {},
   "outputs": [],
   "source": [
    "T = sp.Rational(1, 2) * m * r.diff(t).dot(r.diff(t))\n",
    "V = m * g * r[2]\n",
    "L = T - V"
   ]
  },
  {
   "cell_type": "code",
   "execution_count": 6,
   "id": "e79bee57-e091-461b-a748-537617961cca",
   "metadata": {},
   "outputs": [],
   "source": [
    "q = sp.Matrix([theta, phi])\n",
    "qd = q.diff(t)"
   ]
  },
  {
   "cell_type": "code",
   "execution_count": 7,
   "id": "7b4f8d99-56a3-4b02-9d4a-6f0d7162b9d5",
   "metadata": {},
   "outputs": [],
   "source": [
    "Q = sp.Matrix([r.diff(qi).dot(F) for qi in q])"
   ]
  },
  {
   "cell_type": "code",
   "execution_count": 8,
   "id": "5f594ed5-eddf-4f1d-b23d-a98c38015cba",
   "metadata": {},
   "outputs": [
    {
     "data": {
      "text/latex": [
       "$\\displaystyle \\left[\\begin{matrix}l \\left(- g m \\sin{\\left(\\theta{\\left(t \\right)} \\right)} + k l^{2} \\sqrt{- \\frac{\\cos{\\left(2 \\theta{\\left(t \\right)} \\right)} \\left(\\frac{d}{d t} \\phi{\\left(t \\right)}\\right)^{2}}{2} + \\frac{\\left(\\frac{d}{d t} \\phi{\\left(t \\right)}\\right)^{2}}{2} + \\left(\\frac{d}{d t} \\theta{\\left(t \\right)}\\right)^{2}} \\frac{d}{d t} \\theta{\\left(t \\right)} - \\frac{l m \\sin{\\left(2 \\theta{\\left(t \\right)} \\right)} \\left(\\frac{d}{d t} \\phi{\\left(t \\right)}\\right)^{2}}{2} + l m \\frac{d^{2}}{d t^{2}} \\theta{\\left(t \\right)}\\right)\\\\l^{2} \\left(k l \\sqrt{\\sin^{2}{\\left(\\theta{\\left(t \\right)} \\right)} \\left(\\frac{d}{d t} \\phi{\\left(t \\right)}\\right)^{2} + \\left(\\frac{d}{d t} \\theta{\\left(t \\right)}\\right)^{2}} \\sin{\\left(\\theta{\\left(t \\right)} \\right)} \\frac{d}{d t} \\phi{\\left(t \\right)} + m \\sin{\\left(\\theta{\\left(t \\right)} \\right)} \\frac{d^{2}}{d t^{2}} \\phi{\\left(t \\right)} + 2 m \\cos{\\left(\\theta{\\left(t \\right)} \\right)} \\frac{d}{d t} \\phi{\\left(t \\right)} \\frac{d}{d t} \\theta{\\left(t \\right)}\\right) \\sin{\\left(\\theta{\\left(t \\right)} \\right)}\\end{matrix}\\right]$"
      ],
      "text/plain": [
       "Matrix([\n",
       "[ l*(-g*m*sin(theta(t)) + k*l**2*sqrt(-cos(2*theta(t))*Derivative(phi(t), t)**2/2 + Derivative(phi(t), t)**2/2 + Derivative(theta(t), t)**2)*Derivative(theta(t), t) - l*m*sin(2*theta(t))*Derivative(phi(t), t)**2/2 + l*m*Derivative(theta(t), (t, 2)))],\n",
       "[l**2*(k*l*sqrt(sin(theta(t))**2*Derivative(phi(t), t)**2 + Derivative(theta(t), t)**2)*sin(theta(t))*Derivative(phi(t), t) + m*sin(theta(t))*Derivative(phi(t), (t, 2)) + 2*m*cos(theta(t))*Derivative(phi(t), t)*Derivative(theta(t), t))*sin(theta(t))]])"
      ]
     },
     "execution_count": 8,
     "metadata": {},
     "output_type": "execute_result"
    }
   ],
   "source": [
    "eoms = sp.Matrix(\n",
    "    [\n",
    "        L.diff(qdj).diff(t)\n",
    "        - L.diff(qj)\n",
    "        - Qj\n",
    "        for qj, qdj, Qj in zip(q, qd, Q)\n",
    "    ]\n",
    ")\n",
    "eoms = sp.simplify(eoms)\n",
    "eoms"
   ]
  },
  {
   "cell_type": "code",
   "execution_count": 9,
   "id": "09bf9442-e6e6-46eb-a433-795590de38ad",
   "metadata": {},
   "outputs": [
    {
     "data": {
      "text/latex": [
       "$\\displaystyle \\left[\\begin{matrix}l \\left(- g m \\sin{\\left(\\theta{\\left(t \\right)} \\right)} + k l^{2} \\sqrt{\\left(\\frac{d}{d t} \\theta{\\left(t \\right)}\\right)^{2}} \\frac{d}{d t} \\theta{\\left(t \\right)} + l m \\frac{d^{2}}{d t^{2}} \\theta{\\left(t \\right)}\\right)\\\\0\\end{matrix}\\right]$"
      ],
      "text/plain": [
       "Matrix([\n",
       "[l*(-g*m*sin(theta(t)) + k*l**2*sqrt(Derivative(theta(t), t)**2)*Derivative(theta(t), t) + l*m*Derivative(theta(t), (t, 2)))],\n",
       "[                                                                                                                          0]])"
      ]
     },
     "execution_count": 9,
     "metadata": {},
     "output_type": "execute_result"
    }
   ],
   "source": [
    "eoms_nophi = sp.simplify(eoms.subs({phi.diff(t).diff(t): 0, phi.diff(t): 0}))\n",
    "eoms_nophi"
   ]
  },
  {
   "cell_type": "code",
   "execution_count": 10,
   "id": "763828fe-4533-4cce-a5ac-0550b2c93f5d",
   "metadata": {},
   "outputs": [
    {
     "data": {
      "text/latex": [
       "$\\displaystyle l \\left(- g m \\sin{\\left(\\theta{\\left(t \\right)} \\right)} + k l^{2} \\sqrt{\\left(\\frac{d}{d t} \\theta{\\left(t \\right)}\\right)^{2}} \\frac{d}{d t} \\theta{\\left(t \\right)} + l m \\frac{d^{2}}{d t^{2}} \\theta{\\left(t \\right)}\\right)$"
      ],
      "text/plain": [
       "l*(-g*m*sin(theta(t)) + k*l**2*sqrt(Derivative(theta(t), t)**2)*Derivative(theta(t), t) + l*m*Derivative(theta(t), (t, 2)))"
      ]
     },
     "execution_count": 10,
     "metadata": {},
     "output_type": "execute_result"
    }
   ],
   "source": [
    "eq_nophi = eoms_nophi[0]\n",
    "eq_nophi"
   ]
  },
  {
   "cell_type": "code",
   "execution_count": 11,
   "id": "2537bb91-4f08-41c8-9c5a-6e14968b7ddb",
   "metadata": {},
   "outputs": [
    {
     "data": {
      "text/latex": [
       "$\\displaystyle l \\left(- g m \\sin{\\left(\\theta{\\left(t \\right)} \\right)} + k l^{2} \\sqrt{\\left(\\frac{d}{d t} \\theta{\\left(t \\right)}\\right)^{2}} \\frac{d}{d t} \\theta{\\left(t \\right)} + l m \\frac{d^{2}}{d t^{2}} \\theta{\\left(t \\right)}\\right)$"
      ],
      "text/plain": [
       "l*(-g*m*sin(theta(t)) + k*l**2*sqrt(Derivative(theta(t), t)**2)*Derivative(theta(t), t) + l*m*Derivative(theta(t), (t, 2)))"
      ]
     },
     "execution_count": 11,
     "metadata": {},
     "output_type": "execute_result"
    }
   ],
   "source": [
    "eq_nophi"
   ]
  },
  {
   "cell_type": "code",
   "execution_count": 12,
   "id": "f70c1dce-018e-4a0b-9ccf-508511b43303",
   "metadata": {},
   "outputs": [
    {
     "data": {
      "text/latex": [
       "$\\displaystyle \\frac{g \\sin{\\left(\\theta{\\left(t \\right)} \\right)}}{l} - \\frac{k l \\sqrt{\\left(\\frac{d}{d t} \\theta{\\left(t \\right)}\\right)^{2}} \\frac{d}{d t} \\theta{\\left(t \\right)}}{m}$"
      ],
      "text/plain": [
       "g*sin(theta(t))/l - k*l*sqrt(Derivative(theta(t), t)**2)*Derivative(theta(t), t)/m"
      ]
     },
     "execution_count": 12,
     "metadata": {},
     "output_type": "execute_result"
    }
   ],
   "source": [
    "thetadd_solved = sp.solve(eq_nophi, theta.diff(t).diff(t), dict=True)[0][theta.diff(t).diff(t)]\n",
    "thetadd_solved = sp.simplify(thetadd_solved)\n",
    "thetadd_solved"
   ]
  },
  {
   "cell_type": "code",
   "execution_count": 13,
   "id": "ffbc4d3e-3c31-47b9-8cf0-f113f7b7af30",
   "metadata": {},
   "outputs": [
    {
     "data": {
      "text/plain": [
       "<function _lambdifygenerated(t, _Dummy_46, _Dummy_45, g, k, l, m)>"
      ]
     },
     "execution_count": 13,
     "metadata": {},
     "output_type": "execute_result"
    }
   ],
   "source": [
    "thetadd_solved_lam = sp.lambdify([t, theta, theta.diff(t), g, k, l, m], thetadd_solved)\n",
    "thetadd_solved_lam"
   ]
  },
  {
   "cell_type": "code",
   "execution_count": 14,
   "id": "2906a0a7-7d35-40d6-89bd-89be7623995f",
   "metadata": {},
   "outputs": [],
   "source": [
    "from scipy.integrate import solve_ivp\n",
    "import numpy as np"
   ]
  },
  {
   "cell_type": "code",
   "execution_count": 72,
   "id": "6f12ee42-6956-4ba9-b9d6-20f01f09f72f",
   "metadata": {},
   "outputs": [],
   "source": [
    "def rhs(t, y):\n",
    "    th, thd = y\n",
    "    res = thetadd_solved_lam(t, th, thd, g=9.81, k=1.0, l=3.0, m=.3)\n",
    "    return [thd, res]"
   ]
  },
  {
   "cell_type": "code",
   "execution_count": 85,
   "id": "ba7bf49f-16cf-4ac4-b9e6-172c8bd9146f",
   "metadata": {
    "scrolled": true
   },
   "outputs": [],
   "source": [
    "s = solve_ivp(rhs, (0, 60), [np.deg2rad(0.1), 0])\n",
    "_t, _y = s.t, s.y"
   ]
  },
  {
   "cell_type": "code",
   "execution_count": 86,
   "id": "2d31af3f-e9e5-40b9-b1d1-1308bce17b36",
   "metadata": {},
   "outputs": [],
   "source": [
    "from matplotlib import pyplot as plt"
   ]
  },
  {
   "cell_type": "code",
   "execution_count": 87,
   "id": "c1cd171a-e450-4422-a3f0-c7857f047885",
   "metadata": {},
   "outputs": [
    {
     "data": {
      "image/png": "[encoded data removed]",
      "text/plain": [
       "<Figure size 640x480 with 1 Axes>"
      ]
     },
     "metadata": {},
     "output_type": "display_data"
    }
   ],
   "source": [
    "plt.plot(_t, _y[0, :])\n",
    "plt.ylabel('theta')\n",
    "plt.xlabel('seconds')\n",
    "plt.title('Solution');"
   ]
  }
 ],
 "metadata": {
  "kernelspec": {
   "display_name": "Python 3 (ipykernel)",
   "language": "python",
   "name": "python3"
  },
  "language_info": {
   "codemirror_mode": {
    "name": "ipython",
    "version": 3
   },
   "file_extension": ".py",
   "mimetype": "text/x-python",
   "name": "python",
   "nbconvert_exporter": "python",
   "pygments_lexer": "ipython3",
   "version": "3.12.11"
  }
 },
 "nbformat": 4,
 "nbformat_minor": 5
}
